{
 "cells": [
  {
   "cell_type": "code",
   "execution_count": null,
   "metadata": {},
   "outputs": [
    {
     "name": "stdout",
     "output_type": "stream",
     "text": [
      "Computer programming is so Fantastic. More the practise you do, better you become into it.\n",
      "It makes me excited all the time because I love to bottle up tears. \n",
      "So, Stay hydrated and dancing like you are Wonder Woman\n"
     ]
    }
   ],
   "source": [
    "# this is the MadLib project\n",
    "#focusing on Python string concatenation\n",
    "\n",
    "adj = input(\"Adjective: \")\n",
    "verb1 = input(\"Verb: \")\n",
    "verb2 = input(\"Verb: \")\n",
    "famous_person = input(\"Famous Person: \")\n",
    "\n",
    "madlib = f\"\"\"Computer programming is so {adj}. More practise you do, better you become in it.\n",
    "It makes me excited all the time because I love to {verb1}. \n",
    "So, Stay hydrated and {verb2} like you are a {famous_person}.\"\"\"\n",
    "print(madlib)\n"
   ]
  },
  {
   "cell_type": "code",
   "execution_count": null,
   "metadata": {},
   "outputs": [],
   "source": []
  }
 ],
 "metadata": {
  "kernelspec": {
   "display_name": "Python 3",
   "language": "python",
   "name": "python3"
  },
  "language_info": {
   "codemirror_mode": {
    "name": "ipython",
    "version": 3
   },
   "file_extension": ".py",
   "mimetype": "text/x-python",
   "name": "python",
   "nbconvert_exporter": "python",
   "pygments_lexer": "ipython3",
   "version": "3.12.4"
  }
 },
 "nbformat": 4,
 "nbformat_minor": 2
}
